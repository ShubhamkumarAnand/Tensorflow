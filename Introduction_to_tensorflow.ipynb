{
  "nbformat": 4,
  "nbformat_minor": 0,
  "metadata": {
    "colab": {
      "name": "Introduction_to_tensorflow.ipynb",
      "provenance": [],
      "collapsed_sections": [
        "dNuU9D0ULvaS",
        "29f3aYOuFjt2",
        "4p7K9AeQLetg",
        "f0Srf0RE_vxG",
        "AzVEgUE3BpeN"
      ]
    },
    "kernelspec": {
      "name": "python3",
      "display_name": "Python 3"
    },
    "language_info": {
      "name": "python"
    }
  },
  "cells": [
    {
      "cell_type": "markdown",
      "metadata": {
        "id": "rF94N-plIkWF"
      },
      "source": [
        "# TensorFlow Fundamentals"
      ]
    },
    {
      "cell_type": "code",
      "metadata": {
        "colab": {
          "base_uri": "https://localhost:8080/"
        },
        "id": "MXY05GobBkNm",
        "outputId": "93acb094-699d-42d3-e4d7-800fd7139117"
      },
      "source": [
        "## Importing Tensorflow\n",
        "import tensorflow as tf\n",
        "print(tf.__version__)"
      ],
      "execution_count": null,
      "outputs": [
        {
          "output_type": "stream",
          "text": [
            "2.5.0\n"
          ],
          "name": "stdout"
        }
      ]
    },
    {
      "cell_type": "markdown",
      "metadata": {
        "id": "dNuU9D0ULvaS"
      },
      "source": [
        "## Creating Tensor in ML"
      ]
    },
    {
      "cell_type": "markdown",
      "metadata": {
        "id": "zaO9T1QdNFkZ"
      },
      "source": [
        "### Creating Tensor with tf.constant()"
      ]
    },
    {
      "cell_type": "code",
      "metadata": {
        "colab": {
          "base_uri": "https://localhost:8080/"
        },
        "id": "ZKnyYZHbGrR2",
        "outputId": "eb9cb940-6ecb-408d-ce59-0fff55ad4d47"
      },
      "source": [
        "## Creating tensor(Scaler) with tf.constant()\n",
        "scaler = tf.constant(7)\n",
        "scaler"
      ],
      "execution_count": null,
      "outputs": [
        {
          "output_type": "execute_result",
          "data": {
            "text/plain": [
              "<tf.Tensor: shape=(), dtype=int32, numpy=7>"
            ]
          },
          "metadata": {
            "tags": []
          },
          "execution_count": 14
        }
      ]
    },
    {
      "cell_type": "code",
      "metadata": {
        "colab": {
          "base_uri": "https://localhost:8080/"
        },
        "id": "qzPgydOFIXl-",
        "outputId": "8601289d-7f32-4366-9505-b1fb80c01577"
      },
      "source": [
        "## Checking the dimension of a tensor(ndim --> Number of Dimensions)\n",
        "scaler.ndim"
      ],
      "execution_count": null,
      "outputs": [
        {
          "output_type": "execute_result",
          "data": {
            "text/plain": [
              "0"
            ]
          },
          "metadata": {
            "tags": []
          },
          "execution_count": 15
        }
      ]
    },
    {
      "cell_type": "code",
      "metadata": {
        "colab": {
          "base_uri": "https://localhost:8080/"
        },
        "id": "AMYmGAdDHtv3",
        "outputId": "75331f5c-5d0e-4cee-906b-43af1d4aa8e0"
      },
      "source": [
        "# Create a tensor(vector) using tf.constant()\n",
        "vector = tf.constant([10,15])\n",
        "vector"
      ],
      "execution_count": null,
      "outputs": [
        {
          "output_type": "execute_result",
          "data": {
            "text/plain": [
              "<tf.Tensor: shape=(2,), dtype=int32, numpy=array([10, 15], dtype=int32)>"
            ]
          },
          "metadata": {
            "tags": []
          },
          "execution_count": 16
        }
      ]
    },
    {
      "cell_type": "code",
      "metadata": {
        "colab": {
          "base_uri": "https://localhost:8080/"
        },
        "id": "AE4SLW47IvPp",
        "outputId": "fdee35b8-b37e-444c-cac4-2c42621d0ea5"
      },
      "source": [
        "## Checking the dimension of our vector(ndim --> Number of Dimensions)\n",
        "vector.ndim"
      ],
      "execution_count": null,
      "outputs": [
        {
          "output_type": "execute_result",
          "data": {
            "text/plain": [
              "1"
            ]
          },
          "metadata": {
            "tags": []
          },
          "execution_count": 17
        }
      ]
    },
    {
      "cell_type": "code",
      "metadata": {
        "colab": {
          "base_uri": "https://localhost:8080/"
        },
        "id": "_r5mZSufI9N1",
        "outputId": "3ba90662-d10c-404d-d8fd-f3441614c029"
      },
      "source": [
        "## Create a tensor(Matrix) (has more than 1-Dimension)\n",
        "matrix = tf.constant([[10,2,3],[6,8,12],[1,54,2]])\n",
        "matrix"
      ],
      "execution_count": null,
      "outputs": [
        {
          "output_type": "execute_result",
          "data": {
            "text/plain": [
              "<tf.Tensor: shape=(3, 3), dtype=int32, numpy=\n",
              "array([[10,  2,  3],\n",
              "       [ 6,  8, 12],\n",
              "       [ 1, 54,  2]], dtype=int32)>"
            ]
          },
          "metadata": {
            "tags": []
          },
          "execution_count": 18
        }
      ]
    },
    {
      "cell_type": "code",
      "metadata": {
        "colab": {
          "base_uri": "https://localhost:8080/"
        },
        "id": "LHv9KlfbJuCn",
        "outputId": "602a4125-0509-488e-8b2b-bc977fc89252"
      },
      "source": [
        "## Checking the dimension of our matrix(ndim --> Number of Dimensions)\n",
        "matrix.ndim"
      ],
      "execution_count": null,
      "outputs": [
        {
          "output_type": "execute_result",
          "data": {
            "text/plain": [
              "2"
            ]
          },
          "metadata": {
            "tags": []
          },
          "execution_count": 19
        }
      ]
    },
    {
      "cell_type": "code",
      "metadata": {
        "colab": {
          "base_uri": "https://localhost:8080/"
        },
        "id": "wx5rZJTdJ2OB",
        "outputId": "7c8d61be-4286-445c-cf11-3e58807aa215"
      },
      "source": [
        "another_matrix = tf.constant([[12.,10,5],[5,6.,75]], dtype=tf.float16)\n",
        "another_matrix"
      ],
      "execution_count": null,
      "outputs": [
        {
          "output_type": "execute_result",
          "data": {
            "text/plain": [
              "<tf.Tensor: shape=(2, 3), dtype=float16, numpy=\n",
              "array([[12., 10.,  5.],\n",
              "       [ 5.,  6., 75.]], dtype=float16)>"
            ]
          },
          "metadata": {
            "tags": []
          },
          "execution_count": 20
        }
      ]
    },
    {
      "cell_type": "code",
      "metadata": {
        "colab": {
          "base_uri": "https://localhost:8080/"
        },
        "id": "5s2Uij_hK8Ls",
        "outputId": "377a56ee-62bc-4d85-e8ac-fc7231388f5b"
      },
      "source": [
        "tensor = tf.constant([[[12,5],[6,8],[8,78]],\n",
        "                      [[54.25,540],[5,5.6],[6.9,9]]], dtype = tf.float16)\n",
        "tensor"
      ],
      "execution_count": null,
      "outputs": [
        {
          "output_type": "execute_result",
          "data": {
            "text/plain": [
              "<tf.Tensor: shape=(2, 3, 2), dtype=float16, numpy=\n",
              "array([[[ 12.  ,   5.  ],\n",
              "        [  6.  ,   8.  ],\n",
              "        [  8.  ,  78.  ]],\n",
              "\n",
              "       [[ 54.25, 540.  ],\n",
              "        [  5.  ,   5.6 ],\n",
              "        [  6.9 ,   9.  ]]], dtype=float16)>"
            ]
          },
          "metadata": {
            "tags": []
          },
          "execution_count": 21
        }
      ]
    },
    {
      "cell_type": "code",
      "metadata": {
        "colab": {
          "base_uri": "https://localhost:8080/"
        },
        "id": "x3amySiiMLhT",
        "outputId": "615101b1-a1f6-4878-d790-d374ee233a59"
      },
      "source": [
        "tensor.ndim"
      ],
      "execution_count": null,
      "outputs": [
        {
          "output_type": "execute_result",
          "data": {
            "text/plain": [
              "3"
            ]
          },
          "metadata": {
            "tags": []
          },
          "execution_count": 22
        }
      ]
    },
    {
      "cell_type": "markdown",
      "metadata": {
        "id": "G8U6KJ18NZXx"
      },
      "source": [
        "### Creating tensor with tf.Variable()"
      ]
    },
    {
      "cell_type": "code",
      "metadata": {
        "colab": {
          "base_uri": "https://localhost:8080/"
        },
        "id": "clBqk8V8Moz1",
        "outputId": "02cabc5e-28b1-45b9-e84a-fa6588c6732d"
      },
      "source": [
        "mutable_tensor = tf.Variable([7,10])\n",
        "mutable_tensor"
      ],
      "execution_count": null,
      "outputs": [
        {
          "output_type": "execute_result",
          "data": {
            "text/plain": [
              "<tf.Variable 'Variable:0' shape=(2,) dtype=int32, numpy=array([ 7, 10], dtype=int32)>"
            ]
          },
          "metadata": {
            "tags": []
          },
          "execution_count": 23
        }
      ]
    },
    {
      "cell_type": "markdown",
      "metadata": {
        "id": "tYTb6VGBevf2"
      },
      "source": [
        "> Cannot do mutable_tensor[0] = (11) Not allowed\n",
        "`mutable_tensor[0] = 11`"
      ]
    },
    {
      "cell_type": "code",
      "metadata": {
        "colab": {
          "base_uri": "https://localhost:8080/"
        },
        "id": "xpkEPQHCo7MB",
        "outputId": "42ef4448-b374-474d-dac0-2cbce8403e72"
      },
      "source": [
        "mutable_tensor[0].assign(11)\n",
        "mutable_tensor"
      ],
      "execution_count": null,
      "outputs": [
        {
          "output_type": "execute_result",
          "data": {
            "text/plain": [
              "<tf.Variable 'Variable:0' shape=(2,) dtype=int32, numpy=array([11, 10], dtype=int32)>"
            ]
          },
          "metadata": {
            "tags": []
          },
          "execution_count": 24
        }
      ]
    },
    {
      "cell_type": "markdown",
      "metadata": {
        "id": "K7XSc6GQL83A"
      },
      "source": [
        "## Random Tensor "
      ]
    },
    {
      "cell_type": "markdown",
      "metadata": {
        "id": "29f3aYOuFjt2"
      },
      "source": [
        "### Create a Random Tensor"
      ]
    },
    {
      "cell_type": "code",
      "metadata": {
        "colab": {
          "base_uri": "https://localhost:8080/"
        },
        "id": "c5uNNwEppYcF",
        "outputId": "94064a99-72b8-4543-8997-062645e2e80d"
      },
      "source": [
        "random_1 = tf.random.Generator.from_seed(24)\n",
        "random_1 = random_1.normal(shape = (3,2))\n",
        "random_2 = tf.random.Generator.from_seed(24)\n",
        "random_2 = random_2.normal(shape = (3,2))\n",
        "\n",
        "# Are They Equal\n",
        "\n",
        "random_1, random_2, random_1 == random_2"
      ],
      "execution_count": null,
      "outputs": [
        {
          "output_type": "execute_result",
          "data": {
            "text/plain": [
              "(<tf.Tensor: shape=(3, 2), dtype=float32, numpy=\n",
              " array([[ 0.10944034, -0.8035768 ],\n",
              "        [-1.7166729 ,  0.3738578 ],\n",
              "        [-0.14371012, -0.34646833]], dtype=float32)>,\n",
              " <tf.Tensor: shape=(3, 2), dtype=float32, numpy=\n",
              " array([[ 0.10944034, -0.8035768 ],\n",
              "        [-1.7166729 ,  0.3738578 ],\n",
              "        [-0.14371012, -0.34646833]], dtype=float32)>,\n",
              " <tf.Tensor: shape=(3, 2), dtype=bool, numpy=\n",
              " array([[ True,  True],\n",
              "        [ True,  True],\n",
              "        [ True,  True]])>)"
            ]
          },
          "metadata": {
            "tags": []
          },
          "execution_count": 25
        }
      ]
    },
    {
      "cell_type": "markdown",
      "metadata": {
        "id": "4p7K9AeQLetg"
      },
      "source": [
        "### Shuffle the Elements Order in the Tensor"
      ]
    },
    {
      "cell_type": "code",
      "metadata": {
        "colab": {
          "base_uri": "https://localhost:8080/"
        },
        "id": "3r0sUM1RJ99H",
        "outputId": "a2bc123b-c11d-4ca3-f536-f6e0b2f9e3ed"
      },
      "source": [
        "not_shuffled = tf.constant([[5,11,1],[3,14,5],[6,7,0]])\n",
        "not_shuffled"
      ],
      "execution_count": null,
      "outputs": [
        {
          "output_type": "execute_result",
          "data": {
            "text/plain": [
              "<tf.Tensor: shape=(3, 3), dtype=int32, numpy=\n",
              "array([[ 5, 11,  1],\n",
              "       [ 3, 14,  5],\n",
              "       [ 6,  7,  0]], dtype=int32)>"
            ]
          },
          "metadata": {
            "tags": []
          },
          "execution_count": 26
        }
      ]
    },
    {
      "cell_type": "code",
      "metadata": {
        "colab": {
          "base_uri": "https://localhost:8080/"
        },
        "id": "ifkINh-AM_wo",
        "outputId": "ef29adb0-f801-4483-f319-91833148c700"
      },
      "source": [
        "not_shuffled.ndim"
      ],
      "execution_count": null,
      "outputs": [
        {
          "output_type": "execute_result",
          "data": {
            "text/plain": [
              "2"
            ]
          },
          "metadata": {
            "tags": []
          },
          "execution_count": 27
        }
      ]
    },
    {
      "cell_type": "code",
      "metadata": {
        "colab": {
          "base_uri": "https://localhost:8080/"
        },
        "id": "OfwlzoNLNDds",
        "outputId": "9945f2e7-7201-4d94-b8a4-4a0ec5007339"
      },
      "source": [
        "tf.random.shuffle(not_shuffled)"
      ],
      "execution_count": null,
      "outputs": [
        {
          "output_type": "execute_result",
          "data": {
            "text/plain": [
              "<tf.Tensor: shape=(3, 3), dtype=int32, numpy=\n",
              "array([[ 6,  7,  0],\n",
              "       [ 3, 14,  5],\n",
              "       [ 5, 11,  1]], dtype=int32)>"
            ]
          },
          "metadata": {
            "tags": []
          },
          "execution_count": 28
        }
      ]
    },
    {
      "cell_type": "code",
      "metadata": {
        "colab": {
          "base_uri": "https://localhost:8080/"
        },
        "id": "s597VYlyNeoJ",
        "outputId": "e16cc612-f427-4e15-e69e-7a89371a6307"
      },
      "source": [
        "tf.random.set_seed(45)\n",
        "tf.random.shuffle(not_shuffled , seed = 45)"
      ],
      "execution_count": null,
      "outputs": [
        {
          "output_type": "execute_result",
          "data": {
            "text/plain": [
              "<tf.Tensor: shape=(3, 3), dtype=int32, numpy=\n",
              "array([[ 5, 11,  1],\n",
              "       [ 3, 14,  5],\n",
              "       [ 6,  7,  0]], dtype=int32)>"
            ]
          },
          "metadata": {
            "tags": []
          },
          "execution_count": 29
        }
      ]
    },
    {
      "cell_type": "markdown",
      "metadata": {
        "id": "f0Srf0RE_vxG"
      },
      "source": [
        "### Other ways to make Tensors"
      ]
    },
    {
      "cell_type": "code",
      "metadata": {
        "id": "UAoRvFf_PYhX",
        "colab": {
          "base_uri": "https://localhost:8080/"
        },
        "outputId": "90cdbb57-547d-4d8c-a049-ddfcea2c7dfe"
      },
      "source": [
        "tf.ones([3,4], tf.int16)\n"
      ],
      "execution_count": null,
      "outputs": [
        {
          "output_type": "execute_result",
          "data": {
            "text/plain": [
              "<tf.Tensor: shape=(3, 4), dtype=int16, numpy=\n",
              "array([[1, 1, 1, 1],\n",
              "       [1, 1, 1, 1],\n",
              "       [1, 1, 1, 1]], dtype=int16)>"
            ]
          },
          "metadata": {
            "tags": []
          },
          "execution_count": 30
        }
      ]
    },
    {
      "cell_type": "code",
      "metadata": {
        "colab": {
          "base_uri": "https://localhost:8080/"
        },
        "id": "HkQ1ntgZ__TY",
        "outputId": "cbc1d6bc-460d-49ff-da4a-aa3b3b8cf0e2"
      },
      "source": [
        "tf.zeros([3,4], tf.int16)"
      ],
      "execution_count": null,
      "outputs": [
        {
          "output_type": "execute_result",
          "data": {
            "text/plain": [
              "<tf.Tensor: shape=(3, 4), dtype=int16, numpy=\n",
              "array([[0, 0, 0, 0],\n",
              "       [0, 0, 0, 0],\n",
              "       [0, 0, 0, 0]], dtype=int16)>"
            ]
          },
          "metadata": {
            "tags": []
          },
          "execution_count": 31
        }
      ]
    },
    {
      "cell_type": "markdown",
      "metadata": {
        "id": "AzVEgUE3BpeN"
      },
      "source": [
        "### Turning NumPy Arrays into Tensors"
      ]
    },
    {
      "cell_type": "code",
      "metadata": {
        "colab": {
          "base_uri": "https://localhost:8080/"
        },
        "id": "kxGIvXOTAzUb",
        "outputId": "c3fb99e1-869e-4099-9ab0-b9387e43ccae"
      },
      "source": [
        "import numpy as np\n",
        "np_array = np.arange(1, 25, dtype = np.int16)\n",
        "np_array"
      ],
      "execution_count": null,
      "outputs": [
        {
          "output_type": "execute_result",
          "data": {
            "text/plain": [
              "array([ 1,  2,  3,  4,  5,  6,  7,  8,  9, 10, 11, 12, 13, 14, 15, 16, 17,\n",
              "       18, 19, 20, 21, 22, 23, 24], dtype=int16)"
            ]
          },
          "metadata": {
            "tags": []
          },
          "execution_count": 32
        }
      ]
    },
    {
      "cell_type": "code",
      "metadata": {
        "colab": {
          "base_uri": "https://localhost:8080/"
        },
        "id": "GD9CMnmWCG0t",
        "outputId": "0dc03e69-b615-4dd5-e88a-001620ee66b9"
      },
      "source": [
        "tensor_np = tf.convert_to_tensor(np_array, dtype= tf.int32)\n",
        "tensor_np"
      ],
      "execution_count": null,
      "outputs": [
        {
          "output_type": "execute_result",
          "data": {
            "text/plain": [
              "<tf.Tensor: shape=(24,), dtype=int32, numpy=\n",
              "array([ 1,  2,  3,  4,  5,  6,  7,  8,  9, 10, 11, 12, 13, 14, 15, 16, 17,\n",
              "       18, 19, 20, 21, 22, 23, 24], dtype=int32)>"
            ]
          },
          "metadata": {
            "tags": []
          },
          "execution_count": 33
        }
      ]
    },
    {
      "cell_type": "code",
      "metadata": {
        "colab": {
          "base_uri": "https://localhost:8080/"
        },
        "id": "iqVWB5fCCrOJ",
        "outputId": "390b09f2-6687-4eae-c6b6-eca1977f5978"
      },
      "source": [
        "A = tf.constant(np_array, shape=(3,2,4))\n",
        "B = tf.constant(np_array, shape=(6,4))\n",
        "C = tf.constant(np_array)\n",
        "\n",
        "A , B , C "
      ],
      "execution_count": null,
      "outputs": [
        {
          "output_type": "execute_result",
          "data": {
            "text/plain": [
              "(<tf.Tensor: shape=(3, 2, 4), dtype=int16, numpy=\n",
              " array([[[ 1,  2,  3,  4],\n",
              "         [ 5,  6,  7,  8]],\n",
              " \n",
              "        [[ 9, 10, 11, 12],\n",
              "         [13, 14, 15, 16]],\n",
              " \n",
              "        [[17, 18, 19, 20],\n",
              "         [21, 22, 23, 24]]], dtype=int16)>,\n",
              " <tf.Tensor: shape=(6, 4), dtype=int16, numpy=\n",
              " array([[ 1,  2,  3,  4],\n",
              "        [ 5,  6,  7,  8],\n",
              "        [ 9, 10, 11, 12],\n",
              "        [13, 14, 15, 16],\n",
              "        [17, 18, 19, 20],\n",
              "        [21, 22, 23, 24]], dtype=int16)>,\n",
              " <tf.Tensor: shape=(24,), dtype=int16, numpy=\n",
              " array([ 1,  2,  3,  4,  5,  6,  7,  8,  9, 10, 11, 12, 13, 14, 15, 16, 17,\n",
              "        18, 19, 20, 21, 22, 23, 24], dtype=int16)>)"
            ]
          },
          "metadata": {
            "tags": []
          },
          "execution_count": 34
        }
      ]
    },
    {
      "cell_type": "code",
      "metadata": {
        "colab": {
          "base_uri": "https://localhost:8080/"
        },
        "id": "2rDffO-qDXyt",
        "outputId": "69f3ca4d-b7af-4dc8-c237-a65535bf1138"
      },
      "source": [
        "A.ndim , B.ndim , C.ndim"
      ],
      "execution_count": null,
      "outputs": [
        {
          "output_type": "execute_result",
          "data": {
            "text/plain": [
              "(3, 2, 1)"
            ]
          },
          "metadata": {
            "tags": []
          },
          "execution_count": 35
        }
      ]
    },
    {
      "cell_type": "markdown",
      "metadata": {
        "id": "YIx0hKrxEct5"
      },
      "source": [
        "### Getting Information From Tensors"
      ]
    },
    {
      "cell_type": "code",
      "metadata": {
        "colab": {
          "base_uri": "https://localhost:8080/"
        },
        "id": "utVq6tZJfbO8",
        "outputId": "d3616cf3-bc68-4454-d5d5-aef81dd63697"
      },
      "source": [
        "tensor"
      ],
      "execution_count": null,
      "outputs": [
        {
          "output_type": "execute_result",
          "data": {
            "text/plain": [
              "<tf.Tensor: shape=(2, 3, 2), dtype=float16, numpy=\n",
              "array([[[ 12.  ,   5.  ],\n",
              "        [  6.  ,   8.  ],\n",
              "        [  8.  ,  78.  ]],\n",
              "\n",
              "       [[ 54.25, 540.  ],\n",
              "        [  5.  ,   5.6 ],\n",
              "        [  6.9 ,   9.  ]]], dtype=float16)>"
            ]
          },
          "metadata": {
            "tags": []
          },
          "execution_count": 42
        }
      ]
    },
    {
      "cell_type": "code",
      "metadata": {
        "id": "WHY2mPQ_EYrk",
        "colab": {
          "base_uri": "https://localhost:8080/"
        },
        "outputId": "1d4a0c0f-589d-42e6-85b0-d5355fcef432"
      },
      "source": [
        "tensor.shape"
      ],
      "execution_count": null,
      "outputs": [
        {
          "output_type": "execute_result",
          "data": {
            "text/plain": [
              "TensorShape([2, 3, 2])"
            ]
          },
          "metadata": {
            "tags": []
          },
          "execution_count": 36
        }
      ]
    },
    {
      "cell_type": "code",
      "metadata": {
        "colab": {
          "base_uri": "https://localhost:8080/"
        },
        "id": "S7-nIAzdfGFf",
        "outputId": "9da83d96-9ff9-4acc-9542-c68eb666dcd1"
      },
      "source": [
        "tensor.ndim"
      ],
      "execution_count": null,
      "outputs": [
        {
          "output_type": "execute_result",
          "data": {
            "text/plain": [
              "3"
            ]
          },
          "metadata": {
            "tags": []
          },
          "execution_count": 37
        }
      ]
    },
    {
      "cell_type": "code",
      "metadata": {
        "colab": {
          "base_uri": "https://localhost:8080/"
        },
        "id": "Ez5YHSlxfIq3",
        "outputId": "ca1c7b10-3f35-40a7-e01c-7cdba7b1361a"
      },
      "source": [
        "tensor[0], tensor[:,1], tensor[1:,:1]"
      ],
      "execution_count": null,
      "outputs": [
        {
          "output_type": "execute_result",
          "data": {
            "text/plain": [
              "(<tf.Tensor: shape=(3, 2), dtype=float16, numpy=\n",
              " array([[12.,  5.],\n",
              "        [ 6.,  8.],\n",
              "        [ 8., 78.]], dtype=float16)>,\n",
              " <tf.Tensor: shape=(2, 2), dtype=float16, numpy=\n",
              " array([[6. , 8. ],\n",
              "        [5. , 5.6]], dtype=float16)>,\n",
              " <tf.Tensor: shape=(1, 1, 2), dtype=float16, numpy=array([[[ 54.25, 540.  ]]], dtype=float16)>)"
            ]
          },
          "metadata": {
            "tags": []
          },
          "execution_count": 45
        }
      ]
    },
    {
      "cell_type": "code",
      "metadata": {
        "colab": {
          "base_uri": "https://localhost:8080/"
        },
        "id": "lQyQvCm5fN6q",
        "outputId": "b613d541-af76-4186-ad78-b4862edfece2"
      },
      "source": [
        "tf.size(tensor)"
      ],
      "execution_count": null,
      "outputs": [
        {
          "output_type": "execute_result",
          "data": {
            "text/plain": [
              "<tf.Tensor: shape=(), dtype=int32, numpy=12>"
            ]
          },
          "metadata": {
            "tags": []
          },
          "execution_count": 46
        }
      ]
    },
    {
      "cell_type": "code",
      "metadata": {
        "colab": {
          "base_uri": "https://localhost:8080/"
        },
        "id": "MOQ0sdWjfvr_",
        "outputId": "a3e8b405-2cdc-4ec6-f19c-354310ec74fe"
      },
      "source": [
        "rank_4_tensor = tf.zeros(shape=(2,3,4,5), dtype= tf.int16)\n",
        "rank_4_tensor"
      ],
      "execution_count": null,
      "outputs": [
        {
          "output_type": "execute_result",
          "data": {
            "text/plain": [
              "<tf.Tensor: shape=(2, 3, 4, 5), dtype=int16, numpy=\n",
              "array([[[[0, 0, 0, 0, 0],\n",
              "         [0, 0, 0, 0, 0],\n",
              "         [0, 0, 0, 0, 0],\n",
              "         [0, 0, 0, 0, 0]],\n",
              "\n",
              "        [[0, 0, 0, 0, 0],\n",
              "         [0, 0, 0, 0, 0],\n",
              "         [0, 0, 0, 0, 0],\n",
              "         [0, 0, 0, 0, 0]],\n",
              "\n",
              "        [[0, 0, 0, 0, 0],\n",
              "         [0, 0, 0, 0, 0],\n",
              "         [0, 0, 0, 0, 0],\n",
              "         [0, 0, 0, 0, 0]]],\n",
              "\n",
              "\n",
              "       [[[0, 0, 0, 0, 0],\n",
              "         [0, 0, 0, 0, 0],\n",
              "         [0, 0, 0, 0, 0],\n",
              "         [0, 0, 0, 0, 0]],\n",
              "\n",
              "        [[0, 0, 0, 0, 0],\n",
              "         [0, 0, 0, 0, 0],\n",
              "         [0, 0, 0, 0, 0],\n",
              "         [0, 0, 0, 0, 0]],\n",
              "\n",
              "        [[0, 0, 0, 0, 0],\n",
              "         [0, 0, 0, 0, 0],\n",
              "         [0, 0, 0, 0, 0],\n",
              "         [0, 0, 0, 0, 0]]]], dtype=int16)>"
            ]
          },
          "metadata": {
            "tags": []
          },
          "execution_count": 48
        }
      ]
    },
    {
      "cell_type": "code",
      "metadata": {
        "colab": {
          "base_uri": "https://localhost:8080/"
        },
        "id": "6LfQxL5Fg6Jh",
        "outputId": "72f99034-564b-4904-dbbc-5664c5a07f50"
      },
      "source": [
        "rank_4_tensor[0]"
      ],
      "execution_count": null,
      "outputs": [
        {
          "output_type": "execute_result",
          "data": {
            "text/plain": [
              "<tf.Tensor: shape=(3, 4, 5), dtype=int16, numpy=\n",
              "array([[[0, 0, 0, 0, 0],\n",
              "        [0, 0, 0, 0, 0],\n",
              "        [0, 0, 0, 0, 0],\n",
              "        [0, 0, 0, 0, 0]],\n",
              "\n",
              "       [[0, 0, 0, 0, 0],\n",
              "        [0, 0, 0, 0, 0],\n",
              "        [0, 0, 0, 0, 0],\n",
              "        [0, 0, 0, 0, 0]],\n",
              "\n",
              "       [[0, 0, 0, 0, 0],\n",
              "        [0, 0, 0, 0, 0],\n",
              "        [0, 0, 0, 0, 0],\n",
              "        [0, 0, 0, 0, 0]]], dtype=int16)>"
            ]
          },
          "metadata": {
            "tags": []
          },
          "execution_count": 49
        }
      ]
    },
    {
      "cell_type": "code",
      "metadata": {
        "colab": {
          "base_uri": "https://localhost:8080/"
        },
        "id": "W2EyKWK0g_j2",
        "outputId": "0f6aa946-1674-4dc5-b32f-e84bd22194fd"
      },
      "source": [
        "rank_4_tensor.shape, rank_4_tensor.ndim, tf.size(rank_4_tensor)"
      ],
      "execution_count": null,
      "outputs": [
        {
          "output_type": "execute_result",
          "data": {
            "text/plain": [
              "(TensorShape([2, 3, 4, 5]), 4, <tf.Tensor: shape=(), dtype=int32, numpy=120>)"
            ]
          },
          "metadata": {
            "tags": []
          },
          "execution_count": 50
        }
      ]
    },
    {
      "cell_type": "code",
      "metadata": {
        "colab": {
          "base_uri": "https://localhost:8080/"
        },
        "id": "Mn-II_IqhVJl",
        "outputId": "d306e1e3-910c-4f64-8362-805467d0c29c"
      },
      "source": [
        "rank_4_tensor.dtype, rank_4_tensor.shape[0], rank_4_tensor.shape[-1]"
      ],
      "execution_count": null,
      "outputs": [
        {
          "output_type": "execute_result",
          "data": {
            "text/plain": [
              "(tf.int16, 2, 5)"
            ]
          },
          "metadata": {
            "tags": []
          },
          "execution_count": 51
        }
      ]
    },
    {
      "cell_type": "code",
      "metadata": {
        "colab": {
          "base_uri": "https://localhost:8080/"
        },
        "id": "5Uun9hjIiFAf",
        "outputId": "bfa031ca-0f03-49d2-b5c1-1b34e839f5fb"
      },
      "source": [
        "tf.size(rank_4_tensor), tf.size(rank_4_tensor).numpy()"
      ],
      "execution_count": null,
      "outputs": [
        {
          "output_type": "execute_result",
          "data": {
            "text/plain": [
              "(<tf.Tensor: shape=(), dtype=int32, numpy=120>, 120)"
            ]
          },
          "metadata": {
            "tags": []
          },
          "execution_count": 52
        }
      ]
    },
    {
      "cell_type": "markdown",
      "metadata": {
        "id": "v99cx6_2jHvj"
      },
      "source": [
        "### Indexing Tensors"
      ]
    },
    {
      "cell_type": "code",
      "metadata": {
        "colab": {
          "base_uri": "https://localhost:8080/"
        },
        "id": "XIw-Sbz3iZb7",
        "outputId": "b744931e-93e8-488a-ff44-abef80aaa256"
      },
      "source": [
        "rank_4_tensor[:2,:2,:2,:2]"
      ],
      "execution_count": null,
      "outputs": [
        {
          "output_type": "execute_result",
          "data": {
            "text/plain": [
              "<tf.Tensor: shape=(2, 2, 2, 2), dtype=int16, numpy=\n",
              "array([[[[0, 0],\n",
              "         [0, 0]],\n",
              "\n",
              "        [[0, 0],\n",
              "         [0, 0]]],\n",
              "\n",
              "\n",
              "       [[[0, 0],\n",
              "         [0, 0]],\n",
              "\n",
              "        [[0, 0],\n",
              "         [0, 0]]]], dtype=int16)>"
            ]
          },
          "metadata": {
            "tags": []
          },
          "execution_count": 58
        }
      ]
    },
    {
      "cell_type": "code",
      "metadata": {
        "colab": {
          "base_uri": "https://localhost:8080/"
        },
        "id": "KUUS3dZHjf4P",
        "outputId": "a53c2913-ef9f-4cda-e667-67ad6a763b61"
      },
      "source": [
        "rank_4_tensor[:1,:1,:4,:1]"
      ],
      "execution_count": null,
      "outputs": [
        {
          "output_type": "execute_result",
          "data": {
            "text/plain": [
              "<tf.Tensor: shape=(1, 1, 4, 1), dtype=int16, numpy=\n",
              "array([[[[0],\n",
              "         [0],\n",
              "         [0],\n",
              "         [0]]]], dtype=int16)>"
            ]
          },
          "metadata": {
            "tags": []
          },
          "execution_count": 61
        }
      ]
    },
    {
      "cell_type": "code",
      "metadata": {
        "colab": {
          "base_uri": "https://localhost:8080/"
        },
        "id": "ifP9gdV4kdnz",
        "outputId": "3e3617a5-a40c-4a36-fbeb-af40026f5c0c"
      },
      "source": [
        "rank_2_tensor = tf.ones(shape= (3,4), dtype=tf.int16)\n",
        "rank_2_tensor.ndim, rank_2_tensor.shape"
      ],
      "execution_count": null,
      "outputs": [
        {
          "output_type": "execute_result",
          "data": {
            "text/plain": [
              "(2, TensorShape([3, 4]))"
            ]
          },
          "metadata": {
            "tags": []
          },
          "execution_count": 66
        }
      ]
    },
    {
      "cell_type": "code",
      "metadata": {
        "colab": {
          "base_uri": "https://localhost:8080/"
        },
        "id": "YVGv6VTslepy",
        "outputId": "1bf22c55-2cf3-49ae-f35e-8f9fe4344406"
      },
      "source": [
        "rank_2_tensor"
      ],
      "execution_count": null,
      "outputs": [
        {
          "output_type": "execute_result",
          "data": {
            "text/plain": [
              "<tf.Tensor: shape=(3, 4), dtype=int16, numpy=\n",
              "array([[1, 1, 1, 1],\n",
              "       [1, 1, 1, 1],\n",
              "       [1, 1, 1, 1]], dtype=int16)>"
            ]
          },
          "metadata": {
            "tags": []
          },
          "execution_count": 67
        }
      ]
    },
    {
      "cell_type": "code",
      "metadata": {
        "colab": {
          "base_uri": "https://localhost:8080/"
        },
        "id": "cGOSPigflvO0",
        "outputId": "df0a8032-0c6e-46e8-87e5-86728988949d"
      },
      "source": [
        "rank_2_tensor[:,1:-1]"
      ],
      "execution_count": null,
      "outputs": [
        {
          "output_type": "execute_result",
          "data": {
            "text/plain": [
              "<tf.Tensor: shape=(3, 2), dtype=int16, numpy=\n",
              "array([[1, 1],\n",
              "       [1, 1],\n",
              "       [1, 1]], dtype=int16)>"
            ]
          },
          "metadata": {
            "tags": []
          },
          "execution_count": 71
        }
      ]
    },
    {
      "cell_type": "code",
      "metadata": {
        "id": "-88vkie4l7Yd"
      },
      "source": [
        ""
      ],
      "execution_count": null,
      "outputs": []
    }
  ]
}